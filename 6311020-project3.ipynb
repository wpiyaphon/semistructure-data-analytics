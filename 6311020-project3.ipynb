{
 "cells": [
  {
   "cell_type": "code",
   "execution_count": 270,
   "metadata": {},
   "outputs": [],
   "source": [
    "import pandas as pd"
   ]
  },
  {
   "cell_type": "markdown",
   "metadata": {},
   "source": [
    "# Load data"
   ]
  },
  {
   "cell_type": "code",
   "execution_count": 271,
   "metadata": {},
   "outputs": [],
   "source": [
    "df = pd.read_json(\"sales.json\")"
   ]
  },
  {
   "cell_type": "markdown",
   "metadata": {},
   "source": [
    "# 1. Show top 10 products (name) sales (quantity x price)."
   ]
  },
  {
   "cell_type": "code",
   "execution_count": 272,
   "metadata": {},
   "outputs": [
    {
     "data": {
      "text/html": [
       "<div>\n",
       "<style scoped>\n",
       "    .dataframe tbody tr th:only-of-type {\n",
       "        vertical-align: middle;\n",
       "    }\n",
       "\n",
       "    .dataframe tbody tr th {\n",
       "        vertical-align: top;\n",
       "    }\n",
       "\n",
       "    .dataframe thead th {\n",
       "        text-align: right;\n",
       "    }\n",
       "</style>\n",
       "<table border=\"1\" class=\"dataframe\">\n",
       "  <thead>\n",
       "    <tr style=\"text-align: right;\">\n",
       "      <th></th>\n",
       "      <th>_id</th>\n",
       "      <th>saleDate</th>\n",
       "      <th>storeLocation</th>\n",
       "      <th>customer</th>\n",
       "      <th>couponUsed</th>\n",
       "      <th>purchaseMethod</th>\n",
       "      <th>product</th>\n",
       "      <th>tags</th>\n",
       "      <th>quantity</th>\n",
       "      <th>price</th>\n",
       "      <th>sales</th>\n",
       "    </tr>\n",
       "  </thead>\n",
       "  <tbody>\n",
       "    <tr>\n",
       "      <th>0</th>\n",
       "      <td>{'$oid': '5bd761dcae323e45a93ccfe8'}</td>\n",
       "      <td>{'$date': '2015-03-23T21:06:49.506Z'}</td>\n",
       "      <td>Denver</td>\n",
       "      <td>{'gender': 'M', 'age': 42, 'email': 'cauho@wit...</td>\n",
       "      <td>True</td>\n",
       "      <td>Online</td>\n",
       "      <td>printer paper</td>\n",
       "      <td>[office, stationary]</td>\n",
       "      <td>2</td>\n",
       "      <td>40.01</td>\n",
       "      <td>80.02</td>\n",
       "    </tr>\n",
       "    <tr>\n",
       "      <th>0</th>\n",
       "      <td>{'$oid': '5bd761dcae323e45a93ccfe8'}</td>\n",
       "      <td>{'$date': '2015-03-23T21:06:49.506Z'}</td>\n",
       "      <td>Denver</td>\n",
       "      <td>{'gender': 'M', 'age': 42, 'email': 'cauho@wit...</td>\n",
       "      <td>True</td>\n",
       "      <td>Online</td>\n",
       "      <td>notepad</td>\n",
       "      <td>[office, writing, school]</td>\n",
       "      <td>2</td>\n",
       "      <td>35.29</td>\n",
       "      <td>70.58</td>\n",
       "    </tr>\n",
       "    <tr>\n",
       "      <th>0</th>\n",
       "      <td>{'$oid': '5bd761dcae323e45a93ccfe8'}</td>\n",
       "      <td>{'$date': '2015-03-23T21:06:49.506Z'}</td>\n",
       "      <td>Denver</td>\n",
       "      <td>{'gender': 'M', 'age': 42, 'email': 'cauho@wit...</td>\n",
       "      <td>True</td>\n",
       "      <td>Online</td>\n",
       "      <td>pens</td>\n",
       "      <td>[writing, office, school, stationary]</td>\n",
       "      <td>5</td>\n",
       "      <td>56.12</td>\n",
       "      <td>280.60</td>\n",
       "    </tr>\n",
       "    <tr>\n",
       "      <th>0</th>\n",
       "      <td>{'$oid': '5bd761dcae323e45a93ccfe8'}</td>\n",
       "      <td>{'$date': '2015-03-23T21:06:49.506Z'}</td>\n",
       "      <td>Denver</td>\n",
       "      <td>{'gender': 'M', 'age': 42, 'email': 'cauho@wit...</td>\n",
       "      <td>True</td>\n",
       "      <td>Online</td>\n",
       "      <td>backpack</td>\n",
       "      <td>[school, travel, kids]</td>\n",
       "      <td>2</td>\n",
       "      <td>77.71</td>\n",
       "      <td>155.42</td>\n",
       "    </tr>\n",
       "    <tr>\n",
       "      <th>0</th>\n",
       "      <td>{'$oid': '5bd761dcae323e45a93ccfe8'}</td>\n",
       "      <td>{'$date': '2015-03-23T21:06:49.506Z'}</td>\n",
       "      <td>Denver</td>\n",
       "      <td>{'gender': 'M', 'age': 42, 'email': 'cauho@wit...</td>\n",
       "      <td>True</td>\n",
       "      <td>Online</td>\n",
       "      <td>notepad</td>\n",
       "      <td>[office, writing, school]</td>\n",
       "      <td>2</td>\n",
       "      <td>18.47</td>\n",
       "      <td>36.94</td>\n",
       "    </tr>\n",
       "    <tr>\n",
       "      <th>...</th>\n",
       "      <td>...</td>\n",
       "      <td>...</td>\n",
       "      <td>...</td>\n",
       "      <td>...</td>\n",
       "      <td>...</td>\n",
       "      <td>...</td>\n",
       "      <td>...</td>\n",
       "      <td>...</td>\n",
       "      <td>...</td>\n",
       "      <td>...</td>\n",
       "      <td>...</td>\n",
       "    </tr>\n",
       "    <tr>\n",
       "      <th>4999</th>\n",
       "      <td>{'$oid': '5bd761deae323e45a93ce36f'}</td>\n",
       "      <td>{'$date': '2014-08-18T06:25:49.739Z'}</td>\n",
       "      <td>New York</td>\n",
       "      <td>{'gender': 'M', 'age': 33, 'email': 'lihzodud@...</td>\n",
       "      <td>False</td>\n",
       "      <td>Online</td>\n",
       "      <td>envelopes</td>\n",
       "      <td>[stationary, office, general]</td>\n",
       "      <td>5</td>\n",
       "      <td>24.12</td>\n",
       "      <td>120.60</td>\n",
       "    </tr>\n",
       "    <tr>\n",
       "      <th>4999</th>\n",
       "      <td>{'$oid': '5bd761deae323e45a93ce36f'}</td>\n",
       "      <td>{'$date': '2014-08-18T06:25:49.739Z'}</td>\n",
       "      <td>New York</td>\n",
       "      <td>{'gender': 'M', 'age': 33, 'email': 'lihzodud@...</td>\n",
       "      <td>False</td>\n",
       "      <td>Online</td>\n",
       "      <td>pens</td>\n",
       "      <td>[writing, office, school, stationary]</td>\n",
       "      <td>4</td>\n",
       "      <td>27.10</td>\n",
       "      <td>108.40</td>\n",
       "    </tr>\n",
       "    <tr>\n",
       "      <th>4999</th>\n",
       "      <td>{'$oid': '5bd761deae323e45a93ce36f'}</td>\n",
       "      <td>{'$date': '2014-08-18T06:25:49.739Z'}</td>\n",
       "      <td>New York</td>\n",
       "      <td>{'gender': 'M', 'age': 33, 'email': 'lihzodud@...</td>\n",
       "      <td>False</td>\n",
       "      <td>Online</td>\n",
       "      <td>binder</td>\n",
       "      <td>[school, general, organization]</td>\n",
       "      <td>3</td>\n",
       "      <td>29.09</td>\n",
       "      <td>87.27</td>\n",
       "    </tr>\n",
       "    <tr>\n",
       "      <th>4999</th>\n",
       "      <td>{'$oid': '5bd761deae323e45a93ce36f'}</td>\n",
       "      <td>{'$date': '2014-08-18T06:25:49.739Z'}</td>\n",
       "      <td>New York</td>\n",
       "      <td>{'gender': 'M', 'age': 33, 'email': 'lihzodud@...</td>\n",
       "      <td>False</td>\n",
       "      <td>Online</td>\n",
       "      <td>laptop</td>\n",
       "      <td>[electronics, school, office]</td>\n",
       "      <td>2</td>\n",
       "      <td>598.79</td>\n",
       "      <td>1197.58</td>\n",
       "    </tr>\n",
       "    <tr>\n",
       "      <th>4999</th>\n",
       "      <td>{'$oid': '5bd761deae323e45a93ce36f'}</td>\n",
       "      <td>{'$date': '2014-08-18T06:25:49.739Z'}</td>\n",
       "      <td>New York</td>\n",
       "      <td>{'gender': 'M', 'age': 33, 'email': 'lihzodud@...</td>\n",
       "      <td>False</td>\n",
       "      <td>Online</td>\n",
       "      <td>backpack</td>\n",
       "      <td>[school, travel, kids]</td>\n",
       "      <td>3</td>\n",
       "      <td>70.90</td>\n",
       "      <td>212.70</td>\n",
       "    </tr>\n",
       "  </tbody>\n",
       "</table>\n",
       "<p>27438 rows × 11 columns</p>\n",
       "</div>"
      ],
      "text/plain": [
       "                                       _id  \\\n",
       "0     {'$oid': '5bd761dcae323e45a93ccfe8'}   \n",
       "0     {'$oid': '5bd761dcae323e45a93ccfe8'}   \n",
       "0     {'$oid': '5bd761dcae323e45a93ccfe8'}   \n",
       "0     {'$oid': '5bd761dcae323e45a93ccfe8'}   \n",
       "0     {'$oid': '5bd761dcae323e45a93ccfe8'}   \n",
       "...                                    ...   \n",
       "4999  {'$oid': '5bd761deae323e45a93ce36f'}   \n",
       "4999  {'$oid': '5bd761deae323e45a93ce36f'}   \n",
       "4999  {'$oid': '5bd761deae323e45a93ce36f'}   \n",
       "4999  {'$oid': '5bd761deae323e45a93ce36f'}   \n",
       "4999  {'$oid': '5bd761deae323e45a93ce36f'}   \n",
       "\n",
       "                                   saleDate storeLocation  \\\n",
       "0     {'$date': '2015-03-23T21:06:49.506Z'}        Denver   \n",
       "0     {'$date': '2015-03-23T21:06:49.506Z'}        Denver   \n",
       "0     {'$date': '2015-03-23T21:06:49.506Z'}        Denver   \n",
       "0     {'$date': '2015-03-23T21:06:49.506Z'}        Denver   \n",
       "0     {'$date': '2015-03-23T21:06:49.506Z'}        Denver   \n",
       "...                                     ...           ...   \n",
       "4999  {'$date': '2014-08-18T06:25:49.739Z'}      New York   \n",
       "4999  {'$date': '2014-08-18T06:25:49.739Z'}      New York   \n",
       "4999  {'$date': '2014-08-18T06:25:49.739Z'}      New York   \n",
       "4999  {'$date': '2014-08-18T06:25:49.739Z'}      New York   \n",
       "4999  {'$date': '2014-08-18T06:25:49.739Z'}      New York   \n",
       "\n",
       "                                               customer  couponUsed  \\\n",
       "0     {'gender': 'M', 'age': 42, 'email': 'cauho@wit...        True   \n",
       "0     {'gender': 'M', 'age': 42, 'email': 'cauho@wit...        True   \n",
       "0     {'gender': 'M', 'age': 42, 'email': 'cauho@wit...        True   \n",
       "0     {'gender': 'M', 'age': 42, 'email': 'cauho@wit...        True   \n",
       "0     {'gender': 'M', 'age': 42, 'email': 'cauho@wit...        True   \n",
       "...                                                 ...         ...   \n",
       "4999  {'gender': 'M', 'age': 33, 'email': 'lihzodud@...       False   \n",
       "4999  {'gender': 'M', 'age': 33, 'email': 'lihzodud@...       False   \n",
       "4999  {'gender': 'M', 'age': 33, 'email': 'lihzodud@...       False   \n",
       "4999  {'gender': 'M', 'age': 33, 'email': 'lihzodud@...       False   \n",
       "4999  {'gender': 'M', 'age': 33, 'email': 'lihzodud@...       False   \n",
       "\n",
       "     purchaseMethod        product                                   tags  \\\n",
       "0            Online  printer paper                   [office, stationary]   \n",
       "0            Online        notepad              [office, writing, school]   \n",
       "0            Online           pens  [writing, office, school, stationary]   \n",
       "0            Online       backpack                 [school, travel, kids]   \n",
       "0            Online        notepad              [office, writing, school]   \n",
       "...             ...            ...                                    ...   \n",
       "4999         Online      envelopes          [stationary, office, general]   \n",
       "4999         Online           pens  [writing, office, school, stationary]   \n",
       "4999         Online         binder        [school, general, organization]   \n",
       "4999         Online         laptop          [electronics, school, office]   \n",
       "4999         Online       backpack                 [school, travel, kids]   \n",
       "\n",
       "      quantity   price    sales  \n",
       "0            2   40.01    80.02  \n",
       "0            2   35.29    70.58  \n",
       "0            5   56.12   280.60  \n",
       "0            2   77.71   155.42  \n",
       "0            2   18.47    36.94  \n",
       "...        ...     ...      ...  \n",
       "4999         5   24.12   120.60  \n",
       "4999         4   27.10   108.40  \n",
       "4999         3   29.09    87.27  \n",
       "4999         2  598.79  1197.58  \n",
       "4999         3   70.90   212.70  \n",
       "\n",
       "[27438 rows x 11 columns]"
      ]
     },
     "execution_count": 272,
     "metadata": {},
     "output_type": "execute_result"
    }
   ],
   "source": [
    "# Explode items to several rows\n",
    "df = df.explode('items')\n",
    "df['product'] = df['items'].apply(lambda x: x['name'])\n",
    "df['tags'] = df['items'].apply(lambda x: x['tags'])\n",
    "df['quantity'] = df['items'].apply(lambda x: x['quantity'])\n",
    "df['price'] = df['items'].apply(lambda x: float(x['price']['$numberDecimal']))\n",
    "df['sales'] = df['items'].apply(lambda x: x['quantity'] * float(x['price']['$numberDecimal']))\n",
    "df = df.drop('items', axis=1)\n",
    "df\n",
    "    "
   ]
  },
  {
   "cell_type": "code",
   "execution_count": 273,
   "metadata": {},
   "outputs": [
    {
     "data": {
      "text/plain": [
       "product\n",
       "backpack          817374.10\n",
       "binder            511644.57\n",
       "envelopes         376658.49\n",
       "laptop           6775977.07\n",
       "notepad           463615.48\n",
       "pens              581843.27\n",
       "printer paper     367459.29\n",
       "Name: sales, dtype: float64"
      ]
     },
     "execution_count": 273,
     "metadata": {},
     "output_type": "execute_result"
    }
   ],
   "source": [
    "df.groupby('product').sales.agg('sum')"
   ]
  },
  {
   "cell_type": "markdown",
   "metadata": {},
   "source": [
    "# 2. Show top 3 products (name) sales by store (location)"
   ]
  },
  {
   "cell_type": "code",
   "execution_count": 274,
   "metadata": {},
   "outputs": [],
   "source": [
    "# Group by 'storeLocation' and 'product' and sum the sales\n",
    "grouped = df.groupby(['storeLocation', 'product'])['sales'].sum().reset_index()\n",
    "sorted_groups = grouped.sort_values(by=['storeLocation', 'sales'], ascending=[True, False])\n",
    "top_products = sorted_groups.groupby('storeLocation').head(3)"
   ]
  },
  {
   "cell_type": "code",
   "execution_count": 275,
   "metadata": {},
   "outputs": [
    {
     "name": "stdout",
     "output_type": "stream",
     "text": [
      "   storeLocation   product       sales\n",
      "3         Austin    laptop  1018494.05\n",
      "0         Austin  backpack   115217.59\n",
      "5         Austin      pens    74622.52\n",
      "10        Denver    laptop  1961659.25\n",
      "7         Denver  backpack   245679.34\n",
      "12        Denver      pens   185008.39\n",
      "17        London    laptop  1073098.72\n",
      "14        London  backpack   144529.14\n",
      "19        London      pens    92602.30\n",
      "24      New York    laptop   694613.32\n",
      "21      New York  backpack    82563.14\n",
      "26      New York      pens    64029.90\n",
      "31     San Diego    laptop   462973.58\n",
      "28     San Diego  backpack    50997.42\n",
      "33     San Diego      pens    42134.55\n",
      "38       Seattle    laptop  1565138.15\n",
      "35       Seattle  backpack   178387.47\n",
      "40       Seattle      pens   123445.61\n"
     ]
    }
   ],
   "source": [
    "print(top_products)\n"
   ]
  },
  {
   "cell_type": "markdown",
   "metadata": {},
   "source": [
    "# 3. Show rankings of each store (location)."
   ]
  },
  {
   "cell_type": "code",
   "execution_count": 276,
   "metadata": {},
   "outputs": [],
   "source": [
    "location_groups = df.groupby(['storeLocation'])['sales'].sum().reset_index()\n",
    "sorted_location_groups = location_groups.sort_values(by=['sales'], ascending=[False])"
   ]
  },
  {
   "cell_type": "code",
   "execution_count": 277,
   "metadata": {},
   "outputs": [
    {
     "name": "stdout",
     "output_type": "stream",
     "text": [
      "  storeLocation       sales\n",
      "1        Denver  2921009.92\n",
      "5       Seattle  2255947.69\n",
      "2        London  1583066.79\n",
      "0        Austin  1445603.11\n",
      "3      New York  1016059.59\n",
      "4     San Diego   672885.17\n"
     ]
    }
   ],
   "source": [
    "print(sorted_location_groups)"
   ]
  },
  {
   "cell_type": "markdown",
   "metadata": {},
   "source": [
    "# 4. Show purchased method by gender table"
   ]
  },
  {
   "cell_type": "code",
   "execution_count": 278,
   "metadata": {},
   "outputs": [],
   "source": [
    "df = pd.read_json(\"sales.json\")\n",
    "df = pd.concat([df, json_normalize(df['customer'])], axis=1)\n",
    "df.drop(columns=['customer'], inplace=True) \n",
    "purchase_method_by_gender = pd.crosstab(df['gender'], df['purchaseMethod'])"
   ]
  },
  {
   "cell_type": "code",
   "execution_count": 279,
   "metadata": {},
   "outputs": [
    {
     "name": "stdout",
     "output_type": "stream",
     "text": [
      "purchaseMethod  In store  Online  Phone\n",
      "gender                                 \n",
      "F                   1430     813    284\n",
      "M                   1389     772    312\n"
     ]
    }
   ],
   "source": [
    "print(purchase_method_by_gender)"
   ]
  },
  {
   "cell_type": "markdown",
   "metadata": {},
   "source": [
    "# 5. Show monthly total sales"
   ]
  },
  {
   "cell_type": "code",
   "execution_count": 280,
   "metadata": {},
   "outputs": [],
   "source": [
    "df = pd.read_json(\"sales.json\")\n",
    "df = df.explode('items')\n",
    "df['product'] = df['items'].apply(lambda x: x['name'])\n",
    "df['tags'] = df['items'].apply(lambda x: x['tags'])\n",
    "df['quantity'] = df['items'].apply(lambda x: x['quantity'])\n",
    "df['price'] = df['items'].apply(lambda x: float(x['price']['$numberDecimal']))\n",
    "df['sales'] = df['items'].apply(lambda x: x['quantity'] * float(x['price']['$numberDecimal']))\n",
    "df = df.drop('items', axis=1)"
   ]
  },
  {
   "cell_type": "code",
   "execution_count": 281,
   "metadata": {},
   "outputs": [
    {
     "name": "stderr",
     "output_type": "stream",
     "text": [
      "/var/folders/2v/78tfdk_10ddgpdy_sx9l5hhh0000gn/T/ipykernel_52346/1433473831.py:2: UserWarning: Converting to PeriodArray/Index representation will drop timezone information.\n",
      "  monthly_sales = df.groupby(df['saleDate'].dt.to_period(\"M\"))['sales'].sum().reset_index()\n"
     ]
    }
   ],
   "source": [
    "df['saleDate'] = pd.to_datetime(df['saleDate'].str.get('$date'), format=\"mixed\")\n",
    "monthly_sales = df.groupby(df['saleDate'].dt.to_period(\"M\"))['sales'].sum().reset_index()"
   ]
  },
  {
   "cell_type": "code",
   "execution_count": 282,
   "metadata": {},
   "outputs": [
    {
     "name": "stdout",
     "output_type": "stream",
     "text": [
      "   saleDate      sales\n",
      "0   2013-01  196043.76\n",
      "1   2013-02  147622.59\n",
      "2   2013-03  140700.06\n",
      "3   2013-04  162336.67\n",
      "4   2013-05  179143.37\n",
      "5   2013-06  142132.02\n",
      "6   2013-07  176298.23\n",
      "7   2013-08  130977.22\n",
      "8   2013-09  137871.99\n",
      "9   2013-10  173126.73\n",
      "10  2013-11  148358.38\n",
      "11  2013-12  174306.96\n",
      "12  2014-01  125824.02\n",
      "13  2014-02  141174.41\n",
      "14  2014-03  193413.50\n",
      "15  2014-04  132593.08\n",
      "16  2014-05  166896.80\n",
      "17  2014-06  143304.56\n",
      "18  2014-07  184804.60\n",
      "19  2014-08  167979.81\n",
      "20  2014-09  159802.92\n",
      "21  2014-10  149284.84\n",
      "22  2014-11  180564.85\n",
      "23  2014-12  139466.83\n",
      "24  2015-01  222577.01\n",
      "25  2015-02  189776.15\n",
      "26  2015-03  178086.94\n",
      "27  2015-04  132298.50\n",
      "28  2015-05  167482.69\n",
      "29  2015-06  149484.34\n",
      "30  2015-07  149510.47\n",
      "31  2015-08  154868.63\n",
      "32  2015-09  135615.80\n",
      "33  2015-10  175215.34\n",
      "34  2015-11  158390.42\n",
      "35  2015-12  166565.02\n",
      "36  2016-01  166558.93\n",
      "37  2016-02  120783.52\n",
      "38  2016-03  193185.17\n",
      "39  2016-04  137340.27\n",
      "40  2016-05  162966.06\n",
      "41  2016-06  132942.54\n",
      "42  2016-07  180331.10\n",
      "43  2016-08  164555.33\n",
      "44  2016-09  138299.53\n",
      "45  2016-10  151698.93\n",
      "46  2016-11  170758.41\n",
      "47  2016-12  215400.07\n",
      "48  2017-01  207037.75\n",
      "49  2017-02  134527.54\n",
      "50  2017-03  162351.15\n",
      "51  2017-04  191990.94\n",
      "52  2017-05  202403.85\n",
      "53  2017-06  201552.55\n",
      "54  2017-07  156106.90\n",
      "55  2017-08  173196.13\n",
      "56  2017-09  186976.26\n",
      "57  2017-10  191681.25\n",
      "58  2017-11  202330.86\n",
      "59  2017-12  175697.72\n"
     ]
    }
   ],
   "source": [
    "print(monthly_sales)"
   ]
  }
 ],
 "metadata": {
  "kernelspec": {
   "display_name": "Python 3",
   "language": "python",
   "name": "python3"
  },
  "language_info": {
   "codemirror_mode": {
    "name": "ipython",
    "version": 3
   },
   "file_extension": ".py",
   "mimetype": "text/x-python",
   "name": "python",
   "nbconvert_exporter": "python",
   "pygments_lexer": "ipython3",
   "version": "3.11.4"
  },
  "orig_nbformat": 4
 },
 "nbformat": 4,
 "nbformat_minor": 2
}
